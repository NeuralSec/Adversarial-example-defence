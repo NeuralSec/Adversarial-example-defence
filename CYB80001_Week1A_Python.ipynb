{
  "nbformat": 4,
  "nbformat_minor": 0,
  "metadata": {
    "colab": {
      "name": "CYB80001-Week1A-Python.ipynb",
      "provenance": [],
      "collapsed_sections": [],
      "include_colab_link": true
    },
    "kernelspec": {
      "display_name": "Python 3",
      "language": "python",
      "name": "python3"
    },
    "language_info": {
      "codemirror_mode": {
        "name": "ipython",
        "version": 3
      },
      "file_extension": ".py",
      "mimetype": "text/x-python",
      "name": "python",
      "nbconvert_exporter": "python",
      "pygments_lexer": "ipython3",
      "version": "3.6.7"
    }
  },
  "cells": [
    {
      "cell_type": "markdown",
      "metadata": {
        "id": "view-in-github",
        "colab_type": "text"
      },
      "source": [
        "<a href=\"https://colab.research.google.com/github/NeuralSec/Adversarial-example-defence/blob/master/CYB80001_Week1A_Python.ipynb\" target=\"_parent\"><img src=\"https://colab.research.google.com/assets/colab-badge.svg\" alt=\"Open In Colab\"/></a>"
      ]
    },
    {
      "cell_type": "markdown",
      "metadata": {
        "colab_type": "text",
        "id": "UP2Th8B0LLey"
      },
      "source": [
        "# CYB80001 System Security Project\n",
        "Prepared by **Derui (Derek) Wang**\n",
        "\n",
        "---\n",
        "\n",
        "\n",
        "# Session 1A - IPython notebook and basic data types\n",
        "\n",
        "\n",
        "In this session, \n",
        "you will learn how to run *Python* code under **Google Colab**. Google Colab is a product similar to IPython notebook (Jupyter notebook). If you want to use Jupyter notebook, you can install it using pip (python package installer) or Anaconda.\n",
        "\n",
        "[Google Colab](https://colab.research.google.com)\n",
        "\n",
        "[pip](https://pypi.org/project/pip/)\n",
        "\n",
        "[Anaconda](https://www.anaconda.com/distribution/)\n",
        "\n",
        "In Google Colab, you will be able to execute and modify your *Python* code more efficiently. \n",
        "\n",
        "In addition, you will  be given an introduction on  *Python*'s basic data types, \n",
        "getting familiar with  **string**,   **number**, data conversion, data comparison and \n",
        "data input/output. \n",
        "\n",
        "Hopefully, by using **Python** and the powerful **Google Colab** environment, \n",
        "you will find writing programs both fun and easy. \n"
      ]
    },
    {
      "cell_type": "markdown",
      "metadata": {
        "colab_type": "text",
        "id": "V0vSWcazLLe3"
      },
      "source": [
        "## Content\n",
        "\n",
        "### Part 1 Create your own IPython notebook on Google Colab\n",
        "\n",
        "1.1 [Start Google Colab](#cell_start)\n",
        "\n",
        "1.2 [A tour of Google Colab](#cell_tour)\n",
        "\n",
        "1.3 [Open and close notebooks](#cell_close)\n",
        "\n",
        "### Part 2 Basic data types\n",
        "\n",
        "2.1 [String](#cell_string)\n",
        "\n",
        "2.2 [Number](#cell_number)\n",
        "\n",
        "2.3 [Data conversion and comparison](#cell_conversion)\n",
        "\n",
        "2.4 [Input and output](#cell_input)\n"
      ]
    },
    {
      "cell_type": "markdown",
      "metadata": {
        "colab_type": "text",
        "id": "DAeickflLLe7"
      },
      "source": [
        "# Part 1. Create your own IPython notebook on Google Colab\n",
        "\n",
        "This notebook will show you how to start a Google Colab session. It guides you through the process of creating your own notebook. It provides you details on the notebook interface and show you how to nevigate with a notebook and manipulate its components. "
      ]
    },
    {
      "cell_type": "markdown",
      "metadata": {
        "colab_type": "text",
        "id": "JO2tcWluLLfB"
      },
      "source": [
        "     \n",
        "## 1. 1 Start  Google Colab\n",
        "\n",
        "- Visit [Google Colab](https://colab.research.google.com) in your browser (Chrome is recommended);\n",
        "\n",
        "- If you do not have a Google account, you can register one. Then you can login to Google Colab.\n",
        "\n",
        "You will have the Colab interface as follows:\n",
        "\n",
        "<img src=\"https://github.com/NeuralSec/CYB80001-labs/blob/master/imgs/1.PNG?raw=1\">"
      ]
    },
    {
      "cell_type": "markdown",
      "metadata": {
        "colab_type": "text",
        "id": "Slhkb9iqLLfM"
      },
      "source": [
        " \n",
        " ## 1.2  A tour of Google Colab \n",
        " \n",
        " ###  Create a new ipython notebook\n",
        " \n",
        "To create a new notebook, go to the menu bar and select **File -> New Python 3 notebook**;\n",
        "\n",
        "###  Run script in code cells\n",
        "\n",
        "After a new notebook is created, there is an empty box in the notebook, called a **cell**. If you double click on the cell, you enter the **edit** mode of the notebook. Now we can  enter the following code in the cell"
      ]
    },
    {
      "cell_type": "markdown",
      "metadata": {
        "colab_type": "text",
        "id": "IKwvfUZ7y5wz"
      },
      "source": [
        "text = \"Hello World\" print(text)"
      ]
    },
    {
      "cell_type": "markdown",
      "metadata": {
        "colab_type": "text",
        "id": "NYDnH3V1LLfR"
      },
      "source": [
        "After this,  press **SHIFT + ENTER**, and execute the cell. The result will be shown after the cell. \n",
        "\n",
        "<img src=\"https://github.com/NeuralSec/CYB80001-labs/blob/master/imgs/2.PNG?raw=1\">"
      ]
    },
    {
      "cell_type": "markdown",
      "metadata": {
        "colab_type": "text",
        "id": "N3q3nZrQLLfY"
      },
      "source": [
        "###  Add  new  code cells\n",
        "\n",
        "To add cell below the currrent cell, go to menubar and click **Insert-> Code cell**.\n",
        "\n",
        "<img src=\"https://github.com/NeuralSec/CYB80001-labs/blob/master/imgs/3.PNG?raw=1\">\n",
        "\n",
        "###  Add markdown cells\n",
        "\n",
        "IPython notebook uses a **Markdown** cell for enter normal text. We use markdown cell to display the text in specific format and to provide structure for a notebook.  \n",
        "\n",
        "To add markdown cell below the currrent cell, go to menubar and click **Insert-> Text cell**.\n",
        "\n",
        "<img src=\"https://github.com/NeuralSec/CYB80001-labs/blob/master/imgs/4.PNG?raw=1\">\n",
        "\n",
        "A demonstration of markdown is in the following cell."
      ]
    },
    {
      "cell_type": "markdown",
      "metadata": {
        "colab_type": "text",
        "id": "4cWgEP1YwgH6"
      },
      "source": [
        "## Heading 2\n",
        "Normal text here!\n",
        "\n",
        "### Heading 3\n",
        "ordered list here\n",
        "\n",
        "0. Fruits\n",
        "  0. Banana\n",
        "  0. Grapes\n",
        "0. Veggies\n",
        "  0. Tomato\n",
        "  0. Broccoli\n",
        " \n",
        "Unordered list here\n",
        "- Fruits\n",
        "     - Banana\n",
        "     - Grapes\n",
        "- Veggies\n",
        "     - Tomato\n",
        "     - Broccoli"
      ]
    },
    {
      "cell_type": "markdown",
      "metadata": {
        "colab_type": "text",
        "id": "dPvd8QuFLLfh"
      },
      "source": [
        "### Exercise:\n",
        "Click this cell, and practise writing markdown language here...."
      ]
    },
    {
      "cell_type": "markdown",
      "metadata": {
        "colab_type": "text",
        "id": "b-HmqW3tzE-J"
      },
      "source": [
        "<a id = \"cell_close\"></a>"
      ]
    },
    {
      "cell_type": "markdown",
      "metadata": {
        "colab_type": "text",
        "id": "W0JXgsqELLf0"
      },
      "source": [
        " \n",
        " ## 1.3 Open and close existing notebooks\n",
        " \n",
        "- You can open existing notebooks in Colab. Simply go to menubar and choose **File -> Open notebook**. You can select a tab according to the location of the notebook.\n",
        " \n",
        "- In our labs, you can open the notebooks in **Github** or **upload** the notebook from your local computer.\n",
        " \n",
        " <img src=\"https://github.com/NeuralSec/CYB80001-labs/blob/master/imgs/5.PNG?raw=1\">\n",
        " "
      ]
    },
    {
      "cell_type": "markdown",
      "metadata": {
        "colab_type": "text",
        "id": "WKEEelJeLLf2"
      },
      "source": [
        "\n",
        "# Part 2  Basic Data Types\n"
      ]
    },
    {
      "cell_type": "markdown",
      "metadata": {
        "colab_type": "text",
        "id": "rtm_f4lwLLf4"
      },
      "source": [
        "\n",
        "\n",
        "In this part,  you will get better understanding with Python's basic data type. We will \n",
        "look at **string** and **number** data type in this section. Also covered are:\n",
        "\n",
        "- Data conversion\n",
        "- Data  comparison\n",
        "- Receive  input from users and display results effectively \n",
        "\n",
        "You will be guided through  completing a simple program which receives input from a user,\n",
        " process the information, and display results with specific format. "
      ]
    },
    {
      "cell_type": "markdown",
      "metadata": {
        "colab_type": "text",
        "id": "THnW6RPgLLf6"
      },
      "source": [
        "## 2.1 String\n",
        "\n",
        "A string is a *sequence of characters*. We are using strings in almost every Python\n",
        "programs. As we can seen in the **”Hello, World!”** example, strings can be specified\n",
        "using single quotes **'**. The **print()** function can be used to display a string."
      ]
    },
    {
      "cell_type": "code",
      "metadata": {
        "colab_type": "code",
        "id": "CG-9AQrmLLf7",
        "outputId": "84da5f2f-e281-4f33-cc96-4279f8f7a746",
        "colab": {
          "base_uri": "https://localhost:8080/",
          "height": 34
        }
      },
      "source": [
        "print('Hello, World!')"
      ],
      "execution_count": 0,
      "outputs": [
        {
          "output_type": "stream",
          "text": [
            "Hello, World!\n"
          ],
          "name": "stdout"
        }
      ]
    },
    {
      "cell_type": "markdown",
      "metadata": {
        "colab_type": "text",
        "id": "ZPKAMR6WLLgI"
      },
      "source": [
        "We can also use a variable to store the string value, and use the variable in the\n",
        "**print()** function."
      ]
    },
    {
      "cell_type": "code",
      "metadata": {
        "colab_type": "code",
        "id": "5ZsarfIpLLgO",
        "outputId": "7d319022-6531-4535-e9e1-677ed5a5383b",
        "colab": {
          "base_uri": "https://localhost:8080/",
          "height": 34
        }
      },
      "source": [
        "# Assign a string to a variable \n",
        "text = 'Hello, World!'\n",
        "print(text)"
      ],
      "execution_count": 0,
      "outputs": [
        {
          "output_type": "stream",
          "text": [
            "Hello, World!\n"
          ],
          "name": "stdout"
        }
      ]
    },
    {
      "cell_type": "markdown",
      "metadata": {
        "colab_type": "text",
        "id": "cm9IgbLyLLgU"
      },
      "source": [
        "A *variable* is basically a name that represents (or refers to) some value. We use **=**\n",
        "to assign a value to a variable before we use it. Variable names are given by a programer\n",
        "in a way that the program is easy to understanding. Variable names are *case sensitive*.\n",
        "It can consist of letters, digits and underscores. However, it can not begin with a digit.\n",
        "For example, **plan9** and **plan_9** are valid names, where **9plan** is not."
      ]
    },
    {
      "cell_type": "code",
      "metadata": {
        "colab_type": "code",
        "id": "zilCIz-GLLga",
        "colab": {}
      },
      "source": [
        "text = 'Hello, World!'"
      ],
      "execution_count": 0,
      "outputs": []
    },
    {
      "cell_type": "code",
      "metadata": {
        "colab_type": "code",
        "id": "cHelVR_8LLgg",
        "colab": {}
      },
      "source": [
        "# with print() function, content is displayed without quotation mark\n",
        "print(text)"
      ],
      "execution_count": 0,
      "outputs": []
    },
    {
      "cell_type": "markdown",
      "metadata": {
        "colab_type": "text",
        "id": "zshg7IvZLLgp"
      },
      "source": [
        "With variables, we can also display its value without **print()** function. Note that\n",
        "you can not display a variable without **print()** function in Python script(i.e. in a **.py** file). This method only works under interactive mode (i.e. in the notebook).  "
      ]
    },
    {
      "cell_type": "code",
      "metadata": {
        "colab_type": "code",
        "id": "A8eOiupBLLgq",
        "colab": {}
      },
      "source": [
        "# without print() function, quotation mark is displayed together with content\n",
        "text "
      ],
      "execution_count": 0,
      "outputs": []
    },
    {
      "cell_type": "markdown",
      "metadata": {
        "colab_type": "text",
        "id": "grJ6X6aMLLg8"
      },
      "source": [
        "Back to representation of string, there will be issues if you need to include a quotation\n",
        "mark in the text.\n",
        "We provide a example use a apostrophe mark(’) similar with singal quaotation mark(`).\n",
        "You will find that it will show \"SyntaxError: invalid character in identifier\". Just try to change the apostrophe mark with singal quaotation mark and run it again."
      ]
    },
    {
      "cell_type": "code",
      "metadata": {
        "colab_type": "code",
        "id": "QcxK0VgBLLg9",
        "colab": {}
      },
      "source": [
        "text = ’What’ s your name ’"
      ],
      "execution_count": 0,
      "outputs": []
    },
    {
      "cell_type": "markdown",
      "metadata": {
        "colab_type": "text",
        "id": "HHs3pOo7ummI"
      },
      "source": [
        "<details><summary><u><b><font color=\"Blue\">Click here for solution</u></b></summary>\n",
        "```python\n",
        "    text = ' What\\'s your name?'\n",
        "    print(text)\n",
        "```"
      ]
    },
    {
      "cell_type": "markdown",
      "metadata": {
        "colab_type": "text",
        "id": "W3vLIE_bLLhC"
      },
      "source": [
        "Since strings in double quotes **\"** work exactly the same way as string in single quotes.\n",
        "By mixing the two types, it is easy to include quaotation mark itself in the text."
      ]
    },
    {
      "cell_type": "code",
      "metadata": {
        "colab_type": "code",
        "id": "kcq185ULLLhD",
        "colab": {}
      },
      "source": [
        "text = \"What' s your name?\"\n",
        "print(text)"
      ],
      "execution_count": 0,
      "outputs": []
    },
    {
      "cell_type": "markdown",
      "metadata": {
        "colab_type": "text",
        "id": "ncHDozPILLhI"
      },
      "source": [
        "Alternertively, you can use:"
      ]
    },
    {
      "cell_type": "code",
      "metadata": {
        "colab_type": "code",
        "id": "X-DGDDQaLLhI",
        "colab": {}
      },
      "source": [
        "text = '\"What is the problem?\", he asked.'\n",
        "print(text)"
      ],
      "execution_count": 0,
      "outputs": []
    },
    {
      "cell_type": "markdown",
      "metadata": {
        "colab_type": "text",
        "id": "bwoz8VV2LLhS"
      },
      "source": [
        "You can specify multi-line strings using triple quotes  (**\"\"\"** or **'''**). In this way, single\n",
        "quotes and double quotes can be used freely in the text.\n",
        "Here is one example:"
      ]
    },
    {
      "cell_type": "code",
      "metadata": {
        "colab_type": "code",
        "id": "q1mgdutELLhU",
        "colab": {}
      },
      "source": [
        "multiline = '''This is a test for multiline. This is the first line. \n",
        "This is the second line. \n",
        "I asked, \"What's your name?\"'''\n",
        "print(multiline)"
      ],
      "execution_count": 0,
      "outputs": []
    },
    {
      "cell_type": "markdown",
      "metadata": {
        "colab_type": "text",
        "id": "i5Kx0MKLLLhZ"
      },
      "source": [
        "Notice the difference when the variable is displayed without **print()** function in this case."
      ]
    },
    {
      "cell_type": "code",
      "metadata": {
        "colab_type": "code",
        "id": "5j7kVvnnLLhd",
        "colab": {}
      },
      "source": [
        "multiline = '''This is a test for multiline. This is the first line. \n",
        "This is the second line. \n",
        "I asked, \"What's your name?\"'''\n",
        "multiline"
      ],
      "execution_count": 0,
      "outputs": []
    },
    {
      "cell_type": "markdown",
      "metadata": {
        "colab_type": "text",
        "id": "glnQnKz6LLhi"
      },
      "source": [
        "Another way of include the special characters, such as single quotes is with help of\n",
        "escape sequences **\\\\**. For example, you can specify the single quote using **\\\\' ** as follows."
      ]
    },
    {
      "cell_type": "code",
      "metadata": {
        "colab_type": "code",
        "id": "DC97cQs2LLhj",
        "colab": {}
      },
      "source": [
        "string = 'What\\'s your name?'\n",
        "print(string)"
      ],
      "execution_count": 0,
      "outputs": []
    },
    {
      "cell_type": "markdown",
      "metadata": {
        "colab_type": "text",
        "id": "kp8W43nnLLhv"
      },
      "source": [
        "There are many more other escape sequences (See Section 2.4.1 in [Python3.0 official document](https://docs.python.org/3.1/reference/lexical_analysis.html)). But I am going to mention the most useful two examples here. \n",
        "\n",
        "First, use escape sequences to indicate the backslash itself e.g. **\\\\\\\\**"
      ]
    },
    {
      "cell_type": "code",
      "metadata": {
        "colab_type": "code",
        "id": "U5PUlblFLLh3",
        "colab": {}
      },
      "source": [
        "path = 'c:\\\\windows\\\\temp'\n",
        "print(path)"
      ],
      "execution_count": 0,
      "outputs": []
    },
    {
      "cell_type": "markdown",
      "metadata": {
        "colab_type": "text",
        "id": "cm0OdobTLLh9"
      },
      "source": [
        "Second,  used escape sequences to specify a two-line string. Apart from using a triple-quoted\n",
        "string as shown previously, you can use **\\n** to indicate the start of a new line."
      ]
    },
    {
      "cell_type": "code",
      "metadata": {
        "colab_type": "code",
        "id": "6Hx7whpWLLh9",
        "colab": {}
      },
      "source": [
        "multiline = 'This is a test for multiline. This is the first line.\\nThis is the second line.'\n",
        "print(multiline)"
      ],
      "execution_count": 0,
      "outputs": []
    },
    {
      "cell_type": "markdown",
      "metadata": {
        "colab_type": "text",
        "id": "SxYdplr7LLiB"
      },
      "source": [
        "To manipulate strings, the following two operators are most useful: \n",
        "* **+** is use to concatenate\n",
        "two strings or string variables; \n",
        "* ***** is used for concatenating several copies of the same\n",
        "string."
      ]
    },
    {
      "cell_type": "code",
      "metadata": {
        "colab_type": "code",
        "id": "atOH5kwTLLiC",
        "colab": {}
      },
      "source": [
        "print('Hello, ' + 'World' * 3)"
      ],
      "execution_count": 0,
      "outputs": []
    },
    {
      "cell_type": "markdown",
      "metadata": {
        "colab_type": "text",
        "id": "3e2FhseULLiE"
      },
      "source": [
        "Below is another example of string concatenation based on  variables that store strings."
      ]
    },
    {
      "cell_type": "code",
      "metadata": {
        "colab_type": "code",
        "id": "b4rw4CjPLLiG",
        "colab": {}
      },
      "source": [
        "name = 'World'\n",
        "greeting = 'Hello'\n",
        "print(greeting + ', ' + name + '!')"
      ],
      "execution_count": 0,
      "outputs": []
    },
    {
      "cell_type": "markdown",
      "metadata": {
        "colab_type": "text",
        "id": "ggn2lPQMLLiJ"
      },
      "source": [
        "Using variables, change part of the string text is very easy. "
      ]
    },
    {
      "cell_type": "code",
      "metadata": {
        "colab_type": "code",
        "id": "i0jfd08dLLiK",
        "colab": {}
      },
      "source": [
        "name"
      ],
      "execution_count": 0,
      "outputs": []
    },
    {
      "cell_type": "code",
      "metadata": {
        "colab_type": "code",
        "id": "gDymwzHmLLiN",
        "colab": {}
      },
      "source": [
        "greeting"
      ],
      "execution_count": 0,
      "outputs": []
    },
    {
      "cell_type": "code",
      "metadata": {
        "colab_type": "code",
        "id": "-xdxHvZlLLiQ",
        "colab": {}
      },
      "source": [
        "# Change part of the text is easy\n",
        "greeting = 'Good morning' \n",
        "print(greeting + ', ' + name + '!')"
      ],
      "execution_count": 0,
      "outputs": []
    },
    {
      "cell_type": "markdown",
      "metadata": {
        "colab_type": "text",
        "id": "aUcMPHTMLLiS"
      },
      "source": [
        " ## 2.2 Number"
      ]
    },
    {
      "cell_type": "markdown",
      "metadata": {
        "colab_type": "text",
        "id": "NTaPssJ_LLiT"
      },
      "source": [
        "There are two types of numbers that are used most frequently: integers and floats. As we\n",
        "expect, the standard mathematic operation can be applied to these two types. Please\n",
        "try the following expressions. Note that **\\*\\*** is exponent operator, which indicates\n",
        "exponentation exponential(power) caluclation."
      ]
    },
    {
      "cell_type": "code",
      "metadata": {
        "colab_type": "code",
        "id": "4bJEQg_MLLiU",
        "colab": {}
      },
      "source": [
        "2 + 3"
      ],
      "execution_count": 0,
      "outputs": []
    },
    {
      "cell_type": "code",
      "metadata": {
        "colab_type": "code",
        "id": "p6bV4vC9LLiX",
        "colab": {}
      },
      "source": [
        "3 * 5"
      ],
      "execution_count": 0,
      "outputs": []
    },
    {
      "cell_type": "code",
      "metadata": {
        "colab_type": "code",
        "id": "-Rs_u_qnLLia",
        "colab": {}
      },
      "source": [
        "#3 to the power of 4\n",
        "3 ** 4 "
      ],
      "execution_count": 0,
      "outputs": []
    },
    {
      "cell_type": "markdown",
      "metadata": {
        "colab_type": "text",
        "id": "XTDUWNsPLLie"
      },
      "source": [
        "Among the number operations, we need to look at division closely. In Python 3.0, classic division is performed using  **/**. "
      ]
    },
    {
      "cell_type": "code",
      "metadata": {
        "colab_type": "code",
        "id": "l5ee7L9mLLif",
        "colab": {}
      },
      "source": [
        "15 / 5"
      ],
      "execution_count": 0,
      "outputs": []
    },
    {
      "cell_type": "code",
      "metadata": {
        "colab_type": "code",
        "id": "ZtobUWNcLLij",
        "colab": {}
      },
      "source": [
        "14 / 5"
      ],
      "execution_count": 0,
      "outputs": []
    },
    {
      "cell_type": "markdown",
      "metadata": {
        "colab_type": "text",
        "id": "6ID6qNctLLil"
      },
      "source": [
        "*//* is used to perform floor division. It truncates the fraction and rounds it to the next smallest whole number toward the left on the number line."
      ]
    },
    {
      "cell_type": "code",
      "metadata": {
        "colab_type": "code",
        "id": "hT18fhA8LLim",
        "colab": {}
      },
      "source": [
        "14 // 5"
      ],
      "execution_count": 0,
      "outputs": []
    },
    {
      "cell_type": "code",
      "metadata": {
        "colab_type": "code",
        "id": "Jj02iHTpLLip",
        "colab": {}
      },
      "source": [
        "# Negatives move left on number line. The result is -3 instead of  -2\n",
        "-14 // 5 "
      ],
      "execution_count": 0,
      "outputs": []
    },
    {
      "cell_type": "markdown",
      "metadata": {
        "colab_type": "text",
        "id": "Z-YaXqCSLLir"
      },
      "source": [
        "Modulus operator **%** can be used to obtain remaider. Pay attention when negative number is involved."
      ]
    },
    {
      "cell_type": "code",
      "metadata": {
        "colab_type": "code",
        "id": "WIZ3IGCILLis",
        "colab": {}
      },
      "source": [
        "14 % 5"
      ],
      "execution_count": 0,
      "outputs": []
    },
    {
      "cell_type": "code",
      "metadata": {
        "colab_type": "code",
        "id": "4Ao-du3_LLix",
        "colab": {}
      },
      "source": [
        "# Hint:  −14 // 5 equal to −3\n",
        "#        (-3) * 5 +  ? = -14\n",
        "\n",
        "-14 % 5 "
      ],
      "execution_count": 0,
      "outputs": []
    },
    {
      "cell_type": "markdown",
      "metadata": {
        "colab_type": "text",
        "id": "I0sASGehLLiz"
      },
      "source": [
        "*Operator precedence* is a rule that affects how an expression is evaluated. As we learned in high school, the multiplication is done first than the addition. e.g. **2 + 3 * 4**. This means multiplication operator has higher precedence than the addition operator.\n",
        "\n",
        "For your reference, a precedence table from the python reference manual is used to indicate the evaluation order in Python.  For a complete precedence table, check the heading \"Python Operators Precedence\" in this [Python tutorial](http://www.tutorialspoint.com/python/python_basic_operators.htm)\n",
        "\n",
        "\n",
        "However, When things get confused, it is far better to use parentheses **()** to explicitly\n",
        "specify the precedence. This makes the program more readable.\n",
        "\n",
        "Here are some examples on operator precedence:"
      ]
    },
    {
      "cell_type": "code",
      "metadata": {
        "colab_type": "code",
        "id": "Q8-htgKSLLi0",
        "colab": {}
      },
      "source": [
        "2 + 3 * 4"
      ],
      "execution_count": 0,
      "outputs": []
    },
    {
      "cell_type": "code",
      "metadata": {
        "colab_type": "code",
        "id": "MTstkwWoLLi2",
        "colab": {}
      },
      "source": [
        "(2 + 3) * 4"
      ],
      "execution_count": 0,
      "outputs": []
    },
    {
      "cell_type": "code",
      "metadata": {
        "colab_type": "code",
        "id": "X5zqw9gQLLi6",
        "colab": {}
      },
      "source": [
        "2 + 3 ** 2"
      ],
      "execution_count": 0,
      "outputs": []
    },
    {
      "cell_type": "code",
      "metadata": {
        "colab_type": "code",
        "id": "2J5jmyrALLi8",
        "colab": {}
      },
      "source": [
        "(2 + 3) ** 2"
      ],
      "execution_count": 0,
      "outputs": []
    },
    {
      "cell_type": "code",
      "metadata": {
        "colab_type": "code",
        "id": "4c0ohRKmLLi-",
        "colab": {}
      },
      "source": [
        "-(4+3)+2"
      ],
      "execution_count": 0,
      "outputs": []
    },
    {
      "cell_type": "markdown",
      "metadata": {
        "colab_type": "text",
        "id": "6QklYZFXLLjB"
      },
      "source": [
        "Similary as string, variables can be used to store a  number so that it is easy to  manipulate them."
      ]
    },
    {
      "cell_type": "code",
      "metadata": {
        "colab_type": "code",
        "id": "TsmyIIe0LLjC",
        "colab": {}
      },
      "source": [
        "x = 3\n",
        "y = 2\n",
        "x + 2"
      ],
      "execution_count": 0,
      "outputs": []
    },
    {
      "cell_type": "code",
      "metadata": {
        "colab_type": "code",
        "id": "joZHkCbELLjJ",
        "colab": {}
      },
      "source": [
        "sum = x + y\n",
        "sum"
      ],
      "execution_count": 0,
      "outputs": []
    },
    {
      "cell_type": "code",
      "metadata": {
        "colab_type": "code",
        "id": "2lzP8lYMLLjU",
        "colab": {}
      },
      "source": [
        "x * y"
      ],
      "execution_count": 0,
      "outputs": []
    },
    {
      "cell_type": "markdown",
      "metadata": {
        "colab_type": "text",
        "id": "1gsMSLAgLLjW"
      },
      "source": [
        "One common expression is to run a math operation on a variable and then assign the result of the operation back to the variable. Therefore, there is a shortcut for such a expression. "
      ]
    },
    {
      "cell_type": "code",
      "metadata": {
        "colab_type": "code",
        "id": "D1hxyg1mLLjX",
        "colab": {}
      },
      "source": [
        "x = 2\n",
        "x = x * 3\n",
        "x"
      ],
      "execution_count": 0,
      "outputs": []
    },
    {
      "cell_type": "markdown",
      "metadata": {
        "colab_type": "text",
        "id": "M5b_TPipLLjZ"
      },
      "source": [
        "This is equivalant to:"
      ]
    },
    {
      "cell_type": "code",
      "metadata": {
        "colab_type": "code",
        "id": "Qb0BdkZ9LLja",
        "colab": {}
      },
      "source": [
        "x = 2\n",
        "# Note there is no space between '*' and '+'\n",
        "x *= 3\n",
        "x"
      ],
      "execution_count": 0,
      "outputs": []
    },
    {
      "cell_type": "markdown",
      "metadata": {
        "colab_type": "text",
        "collapsed": true,
        "id": "Mk39mzf8LLjd"
      },
      "source": [
        "## 2.3 Data conversion and comparison"
      ]
    },
    {
      "cell_type": "markdown",
      "metadata": {
        "colab_type": "text",
        "id": "DI609niBLLje"
      },
      "source": [
        "So far, we have seen three types of data: interger, float, and string. With various data type, Python can define the operations possible on them and the storage method for each of them. In the later pracs, we will further introduce more data types, such as tuple, list and dictionary. \n",
        "\n",
        "To obtain the data type of a variable or a value, we can use built-in function **type()**;\n",
        "whereas functions, such as **str()**, **int()**, **float()**, are used to convert data one  type to another. Check the following examples on the usage of these functions:"
      ]
    },
    {
      "cell_type": "code",
      "metadata": {
        "colab_type": "code",
        "id": "V62kYzxKLLjf",
        "colab": {}
      },
      "source": [
        "type('Hello, world!)')"
      ],
      "execution_count": 0,
      "outputs": []
    },
    {
      "cell_type": "code",
      "metadata": {
        "colab_type": "code",
        "id": "Boe-ivfiLLjh",
        "colab": {}
      },
      "source": [
        "input_Value = '45.6'\n",
        "type(input_Value)"
      ],
      "execution_count": 0,
      "outputs": []
    },
    {
      "cell_type": "code",
      "metadata": {
        "colab_type": "code",
        "id": "4wGHArWZLLji",
        "colab": {}
      },
      "source": [
        "weight = float(input_Value)\n",
        "weight\n",
        "type(weight)"
      ],
      "execution_count": 0,
      "outputs": []
    },
    {
      "cell_type": "markdown",
      "metadata": {
        "colab_type": "text",
        "id": "T7mJiYNiLLjk"
      },
      "source": [
        "Note the system will report error message when the conversion function is not compatible with the data."
      ]
    },
    {
      "cell_type": "code",
      "metadata": {
        "colab_type": "code",
        "id": "i9bnxwLRLLjk",
        "colab": {}
      },
      "source": [
        "input_Value = 'David'\n",
        "weight = float(input_Value)"
      ],
      "execution_count": 0,
      "outputs": []
    },
    {
      "cell_type": "markdown",
      "metadata": {
        "colab_type": "text",
        "id": "s_NS6zzbLLjl"
      },
      "source": [
        "Comparison between two values can help make decision in a program. The result of the comparison is either **True** or **False**. They are the two values of *Boolean* type."
      ]
    },
    {
      "cell_type": "code",
      "metadata": {
        "colab_type": "code",
        "id": "hpz8oajsLLjp",
        "colab": {}
      },
      "source": [
        "5 > 10"
      ],
      "execution_count": 0,
      "outputs": []
    },
    {
      "cell_type": "code",
      "metadata": {
        "colab_type": "code",
        "id": "vZnUQd69LLjx",
        "colab": {}
      },
      "source": [
        "type(5 > 10)"
      ],
      "execution_count": 0,
      "outputs": []
    },
    {
      "cell_type": "code",
      "metadata": {
        "colab_type": "code",
        "id": "Zfw9EfrqLLj0",
        "colab": {}
      },
      "source": [
        "# Double equal sign is also used for comparison\n",
        "10.0 == 10"
      ],
      "execution_count": 0,
      "outputs": []
    },
    {
      "cell_type": "markdown",
      "metadata": {
        "colab_type": "text",
        "id": "_rZvY3UlLLj1"
      },
      "source": [
        "Check the following examples on comparison of two strings."
      ]
    },
    {
      "cell_type": "code",
      "metadata": {
        "colab_type": "code",
        "id": "l4dFT7CYLLj1",
        "colab": {}
      },
      "source": [
        "'cat' < 'dog'"
      ],
      "execution_count": 0,
      "outputs": []
    },
    {
      "cell_type": "code",
      "metadata": {
        "colab_type": "code",
        "id": "EzfdIp6XLLj3",
        "colab": {}
      },
      "source": [
        "# All uppercases are smaller than low cases in terms of ASCII code. It will compare each character from the beginning to the end between two words based on their ACSII code value.\n",
        "'cat' < 'Dog'"
      ],
      "execution_count": 0,
      "outputs": []
    },
    {
      "cell_type": "code",
      "metadata": {
        "colab_type": "code",
        "id": "s88N5oeRLLj4",
        "colab": {}
      },
      "source": [
        "'apple' < 'apricot'"
      ],
      "execution_count": 0,
      "outputs": []
    },
    {
      "cell_type": "markdown",
      "metadata": {
        "colab_type": "text",
        "id": "SRn9iUKrLLj8"
      },
      "source": [
        "There are three logical operators, *not*, *and* and *or*, which can  be applied to the boolean values. "
      ]
    },
    {
      "cell_type": "code",
      "metadata": {
        "colab_type": "code",
        "id": "TJOHXNYOLLj8",
        "colab": {}
      },
      "source": [
        "# Both condition #1 and condition #2 are True?\n",
        "3 < 4  and 7 < 8"
      ],
      "execution_count": 0,
      "outputs": []
    },
    {
      "cell_type": "code",
      "metadata": {
        "colab_type": "code",
        "id": "e3678xUuLLj9",
        "colab": {}
      },
      "source": [
        "# Either condition 1 or condition 2 are True?\n",
        "3 < 4  or 7 > 8"
      ],
      "execution_count": 0,
      "outputs": []
    },
    {
      "cell_type": "code",
      "metadata": {
        "colab_type": "code",
        "id": "AgVnOhigLLj-",
        "colab": {}
      },
      "source": [
        "# Both conditional #1 and conditional #2 are False?\n",
        "not ((3 > 4) or (7 > 8))"
      ],
      "execution_count": 0,
      "outputs": []
    },
    {
      "cell_type": "markdown",
      "metadata": {
        "colab_type": "text",
        "id": "B3ClkWDGLLkG"
      },
      "source": [
        "## 2. 4. Input and output"
      ]
    },
    {
      "cell_type": "markdown",
      "metadata": {
        "colab_type": "text",
        "id": "DWqLiEZ1LLkH"
      },
      "source": [
        "All programing languages provide features to interact with user. Python provide *input()* function to get input. It waits for the user to type some input and press return. We can add some information for the user by putting a message inside the function's brackets. It must be a string or a string variable. The text that was typed can be saved in a variable. Here is one example:"
      ]
    },
    {
      "cell_type": "code",
      "metadata": {
        "colab_type": "code",
        "id": "uotQ6pd8LLkH",
        "colab": {}
      },
      "source": [
        "nInput  = input('Enter you number here:\\n')"
      ],
      "execution_count": 0,
      "outputs": []
    },
    {
      "cell_type": "markdown",
      "metadata": {
        "colab_type": "text",
        "id": "jhMpU6dfLLkJ"
      },
      "source": [
        "However, be aware that the input received from the user are treated as a string, even\n",
        "though a user entered a number. The following **print()** function invokes an error message. "
      ]
    },
    {
      "cell_type": "code",
      "metadata": {
        "colab_type": "code",
        "id": "otpC8BEbLLkJ",
        "colab": {}
      },
      "source": [
        "print(nInput + 3)"
      ],
      "execution_count": 0,
      "outputs": []
    },
    {
      "cell_type": "markdown",
      "metadata": {
        "colab_type": "text",
        "id": "FaIP1_b4LLkL"
      },
      "source": [
        "The input need to be converted to an integer before the match operation can be performed as follows because the string data cannot add the interger data directly. They are totally different two types of data."
      ]
    },
    {
      "cell_type": "code",
      "metadata": {
        "colab_type": "code",
        "id": "pe9Ey8M-LLkL",
        "colab": {}
      },
      "source": [
        "print(int(nInput) + 3)"
      ],
      "execution_count": 0,
      "outputs": []
    },
    {
      "cell_type": "markdown",
      "metadata": {
        "colab_type": "text",
        "id": "hWChILEcLLkP"
      },
      "source": [
        "After user's input are accepted, the messages need to be displayed to the user accordingly. String concatenation is one way to display messages which incorporate variable values. "
      ]
    },
    {
      "cell_type": "code",
      "metadata": {
        "colab_type": "code",
        "id": "UBLRtd-kLLkP",
        "colab": {}
      },
      "source": [
        "name = 'David'\n",
        "print('Hello, ' + name)"
      ],
      "execution_count": 0,
      "outputs": []
    },
    {
      "cell_type": "markdown",
      "metadata": {
        "colab_type": "text",
        "id": "OyEkpA3mLLkR"
      },
      "source": [
        "Another way of achieving this is using **print()** funciton with *string formatting*. We need to use the *string formatting operator*, the percent(**%**) sign. "
      ]
    },
    {
      "cell_type": "code",
      "metadata": {
        "colab_type": "code",
        "id": "33qCABY9LLkS",
        "colab": {}
      },
      "source": [
        "name = 'David'\n",
        "print('Hello, %s' % name)"
      ],
      "execution_count": 0,
      "outputs": []
    },
    {
      "cell_type": "markdown",
      "metadata": {
        "colab_type": "text",
        "id": "UvuFlcAcLLkW"
      },
      "source": [
        "Here is another example with two variables:"
      ]
    },
    {
      "cell_type": "code",
      "metadata": {
        "colab_type": "code",
        "id": "-cFfoUp5LLkX",
        "colab": {}
      },
      "source": [
        "name = 'David'\n",
        "age = 23\n",
        "print('%s is %d years old.' % (name, age))"
      ],
      "execution_count": 0,
      "outputs": []
    },
    {
      "cell_type": "markdown",
      "metadata": {
        "colab_type": "text",
        "id": "MZQSERheLLkl"
      },
      "source": [
        "Notice that the two variables, **name**, **age**, that specify the values are included at the end of the statement, and enclosed with a bracket. \n",
        "\n",
        "With the quotation mark,  **%s** and **%d** are used to specify formating for string and integer respectively. \n",
        "The following table shows a selected set of symbols which can be used along with %. "
      ]
    },
    {
      "cell_type": "markdown",
      "metadata": {
        "colab_type": "text",
        "id": "1wKLT4k4LLkl"
      },
      "source": [
        "<table width=\"304\" border=\"1\">\n",
        "  <tr>\n",
        "    <th width=\"112\" scope=\"col\">Format symbol</th>\n",
        "    <th width=\"176\" scope=\"col\">Conversion</th>\n",
        "  </tr>\n",
        "  <tr>\n",
        "    <td>%s</td>\n",
        "    <td>String</td>\n",
        "  </tr>\n",
        "  <tr>\n",
        "    <td>%d</td>\n",
        "    <td>Signed decimal integer</td>\n",
        "  </tr>\n",
        "  <tr>\n",
        "    <td>%f</td>\n",
        "    <td>Floating point real number</td>\n",
        "  </tr>\n",
        "</table>"
      ]
    },
    {
      "cell_type": "markdown",
      "metadata": {
        "colab_type": "text",
        "id": "Q0_RdlHALLkm"
      },
      "source": [
        "There are extra charaters that are used together with above symbols:"
      ]
    },
    {
      "cell_type": "markdown",
      "metadata": {
        "colab_type": "text",
        "id": "iaQEU8mCLLkm"
      },
      "source": [
        "<table width=\"400\" border=\"1\">\n",
        "  <tr>\n",
        "    <th width=\"100\" scope=\"col\">Symbol</th>\n",
        "    <th width=\"3000\" scope=\"col\">Functionality</th>\n",
        "  </tr>\n",
        "  <tr>\n",
        "    <td>-</td>\n",
        "    <td>Left justification</td>\n",
        "  </tr>\n",
        "  <tr>\n",
        "    <td>+</td>\n",
        "    <td>Display the sign</td>\n",
        "  </tr>\n",
        "  <tr>\n",
        "    <td>m.n</td>\n",
        "    <td>m is the minimum total width; n is the number of digits to display after the decimal point</td>\n",
        "  </tr>\n",
        "</table>"
      ]
    },
    {
      "cell_type": "markdown",
      "metadata": {
        "colab_type": "text",
        "id": "jfsOdi7pLLkn"
      },
      "source": [
        "Here are  more examples that use above specifiers:"
      ]
    },
    {
      "cell_type": "code",
      "metadata": {
        "colab_type": "code",
        "id": "9CSC_2NOLLkn",
        "colab": {}
      },
      "source": [
        "# With %f, the format is right justification by default. \n",
        "# As a result, white spaces are added to the left of the number\n",
        "# 10.4 means minimal width 10 with 4 decinal points\n",
        "print('Output a float number: %10.4f' % (3.5))"
      ],
      "execution_count": 0,
      "outputs": []
    },
    {
      "cell_type": "code",
      "metadata": {
        "colab_type": "code",
        "id": "FeXQfC1OLLkq",
        "colab": {}
      },
      "source": [
        "# plus sign after % means to show positive sign\n",
        "# Zero after plus sign means using leading zero to fill width of 5\n",
        "print('Output an integer: %+05d' % (23))"
      ],
      "execution_count": 0,
      "outputs": []
    },
    {
      "cell_type": "markdown",
      "metadata": {
        "colab_type": "text",
        "id": "tlMQpvLnLLkt"
      },
      "source": [
        "### 2.5 Notes on *Python 2*\n",
        "\n",
        "You need to pay attention if you test examples in this prac under *Python* 2.  \n",
        "\n",
        "1. In *Python 3,  * **/** is float division, and  **//** is integer division; while in Python 2, \n",
        "\tboth **/** and **//**\n",
        "\tperform *integer division*.  \n",
        "\tHowever, if you stick to using **float(3)/2** for *float division*, \n",
        "\tand **3/2** for *integer division*, \n",
        "\tyou will have no problem in both version. \n",
        "    \n",
        "2. Instead using function **input()**,  \n",
        "\t**raw_input()** is used in Python 2. \n",
        "\tBoth functions have the same functionality,\n",
        "\ti.e. take what the user typed and passes it back as a string.\n",
        "    \n",
        "3. Although both versions support **print()** function with same format, \n",
        "\tPython 2 also allows  the print statement (e.g. **print \"Hello, World!\"**), \n",
        "\twhich is not valid in Python 3. \n",
        "\tHowever, if you stick to our examples and using **print()** function with parantheses, \n",
        "\tyour programs should works fine in both versions.  "
      ]
    }
  ]
}